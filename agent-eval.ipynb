{
  "cells": [
    {
      "cell_type": "markdown",
      "metadata": {
        "id": "sdtvMZNQrZOf"
      },
      "source": [
        "# Optimise the performance of an AI Agent\n",
        "\n",
        "\n",
        "Optimise the performance of an AI Agent\n",
        "\n",
        "This lab exercise is designed to help participants understand and evaluate AI agents through a series of structured tasks, using IBM's Granite\n",
        "model from Replicate for enhanced reasoning capabilities.\n",
        "\n",
        "## Task 1:\n",
        "\n",
        "### Setup and Initialization\n",
        "- Setting up credentials\n",
        "- Loading the Granite model via Replicate\n",
        "- Basic environment configuration"
      ]
    },
    {
      "cell_type": "code",
      "execution_count": null,
      "metadata": {
        "id": "ZL7J-0_yrZOi"
      },
      "source": [
        "!pip install git+https://github.com/ibm-granite-community/utils \\\n",
        "    \"langchain_community<0.3.0\" \\\n",
        "    replicate"
      ],
      "outputs": []
    },
    {
      "cell_type": "code",
      "source": [
        "!pip install mlflow"
      ],
      "metadata": {
        "id": "Hek660pTvzCz"
      },
      "execution_count": null,
      "outputs": []
    },
    {
      "cell_type": "code",
      "execution_count": null,
      "metadata": {
        "id": "tVyHzQC_rZOk"
      },
      "source": [
        "import os\n",
        "import replicate\n",
        "import json\n",
        "from ibm_granite_community.notebook_utils import get_env_var\n",
        "from langchain_community.llms import Replicate\n",
        "\n",
        "model = Replicate(\n",
        "    model=\"ibm-granite/granite-3.3-8b-instruct\",\n",
        "    replicate_api_token=get_env_var('REPLICATE_API_TOKEN'),\n",
        "    model_kwargs={\"max_tokens\":1024, \"temperature\":0.2},\n",
        ")\n",
        "\n",
        "print('✅ Setup complete!')"
      ],
      "outputs": []
    },
    {
      "cell_type": "markdown",
      "metadata": {
        "id": "BQC18InPrZOl"
      },
      "source": [
        "## Task 2:\n",
        "###Create Simple Tool Calling & Tools\n",
        "- Define Custom Tools\n",
        "- Build a functional agent that can use custom tools to perform specific tasks"
      ]
    },
    {
      "cell_type": "code",
      "execution_count": null,
      "metadata": {
        "id": "qRkhnunJrZOl"
      },
      "source": [
        "from typing import Dict, List, Optional\n",
        "import json\n",
        "\n",
        "class SimpleAgent:\n",
        "    def __init__(self):\n",
        "        \"\"\"Initialize the SimpleAgent with product database\"\"\"\n",
        "        self.products = [\n",
        "            {\n",
        "                \"id\": \"P010\",\n",
        "                \"name\": \"Wireless Headphones\",\n",
        "                \"category\": \"Electronics\",\n",
        "                \"description\": \"High-quality wireless headphones with noise cancellation\",\n",
        "                \"price\": 149.99,\n",
        "                \"stock\": 75,\n",
        "                \"delivery\": {\n",
        "                    \"shipping_cost\": 4.99,\n",
        "                    \"free_shipping_threshold\": 100,\n",
        "                    \"estimated_days\": \"2-3\"\n",
        "                }\n",
        "            },\n",
        "            {\n",
        "                \"id\": \"P022\",\n",
        "                \"name\": \"Running Shoes\",\n",
        "                \"category\": \"Sports\",\n",
        "                \"description\": \"Lightweight running shoes with cushioned soles\",\n",
        "                \"price\": 89.99,\n",
        "                \"stock\": 120,\n",
        "                \"delivery\": {\n",
        "                    \"shipping_cost\": 5.99,\n",
        "                    \"free_shipping_threshold\": 100,\n",
        "                    \"estimated_days\": \"3-5\"\n",
        "                }\n",
        "            },\n",
        "            {\n",
        "                \"id\": \"P035\",\n",
        "                \"name\": \"Coffee Maker\",\n",
        "                \"category\": \"Kitchen\",\n",
        "                \"description\": \"Programmable coffee maker with 12-cup capacity\",\n",
        "                \"price\": 79.99,\n",
        "                \"stock\": 45,\n",
        "                \"delivery\": {\n",
        "                    \"shipping_cost\": 7.99,\n",
        "                    \"free_shipping_threshold\": 100,\n",
        "                    \"estimated_days\": \"2-4\"\n",
        "                }\n",
        "            },\n",
        "            {\n",
        "                \"id\": \"P012\",\n",
        "                \"name\": \"Laptop Stand\",\n",
        "                \"category\": \"Electronics\",\n",
        "                \"description\": \"Adjustable aluminum laptop stand with cooling\",\n",
        "                \"price\": 29.99,\n",
        "                \"stock\": 150,\n",
        "                \"delivery\": {\n",
        "                    \"shipping_cost\": 3.99,\n",
        "                    \"free_shipping_threshold\": 50,\n",
        "                    \"estimated_days\": \"1-2\"\n",
        "                }\n",
        "            },\n",
        "            {\n",
        "                \"id\": \"P007\",\n",
        "                \"name\": \"Yoga Mat\",\n",
        "                \"category\": \"Sports\",\n",
        "                \"description\": \"Non-slip yoga mat with carrying strap\",\n",
        "                \"price\": 24.99,\n",
        "                \"stock\": 95,\n",
        "                \"delivery\": {\n",
        "                    \"shipping_cost\": 4.99,\n",
        "                    \"free_shipping_threshold\": 50,\n",
        "                    \"estimated_days\": \"2-3\"\n",
        "                }\n",
        "            },\n",
        "            {\n",
        "                \"id\": \"P045\",\n",
        "                \"name\": \"Wireless Mouse\",\n",
        "                \"category\": \"Electronics\",\n",
        "                \"description\": \"Ergonomic Wireless Mouse with Rechargable Battery\",\n",
        "                \"price\": 49.99,\n",
        "                \"stock\": 18,\n",
        "                \"delivery\": {\n",
        "                    \"shipping_cost\": 4.99,\n",
        "                    \"free_shipping_threshold\": 50,\n",
        "                    \"estimated_days\": \"2-3\"\n",
        "                }\n",
        "            }\n",
        "        ]\n",
        "\n",
        "    def get_product_info(self, product_id: str) -> str:\n",
        "        \"\"\"Tool 1: Get product description and category\"\"\"\n",
        "        product = self._find_product(product_id)\n",
        "        if not product:\n",
        "            return \"Product not found.\"\n",
        "\n",
        "        return f\"Product: {product['name']}\\nCategory: {product['category']}\\nDescription: {product['description']}\"\n",
        "\n",
        "    def get_price(self, product_id: str) -> str:\n",
        "        \"\"\"Tool 2: Get product price information\"\"\"\n",
        "        product = self._find_product(product_id)\n",
        "        if not product:\n",
        "            return \"Product not found.\"\n",
        "\n",
        "        return f\"Price: ${product['price']:.2f}\"\n",
        "\n",
        "    def get_delivery_info(self, product_id: str) -> str:\n",
        "        \"\"\"Tool 3: Get delivery details\"\"\"\n",
        "        product = self._find_product(product_id)\n",
        "        if not product:\n",
        "            return \"Product not found.\"\n",
        "\n",
        "        delivery = product['delivery']\n",
        "        free_shipping_msg = f\"\\nFree shipping on orders over ${delivery['free_shipping_threshold']:.2f}\"\n",
        "\n",
        "        return (f\"Shipping Cost: ${delivery['shipping_cost']:.2f}\\n\"\n",
        "                f\"Estimated Delivery: {delivery['estimated_days']} business days\"\n",
        "                f\"{free_shipping_msg}\")\n",
        "\n",
        "    def check_stock(self, product_id: str) -> str:\n",
        "        \"\"\"Tool 4: Check stock availability\"\"\"\n",
        "        product = self._find_product(product_id)\n",
        "        if not product:\n",
        "            return \"Product not found.\"\n",
        "\n",
        "        stock = product['stock']\n",
        "        if stock > 100:\n",
        "            status = \"High Stock\"\n",
        "        elif stock > 50:\n",
        "            status = \"Good Stock\"\n",
        "        elif stock > 10:\n",
        "            status = \"Limited Stock\"\n",
        "        else:\n",
        "            status = \"Low Stock\"\n",
        "\n",
        "        return f\"Stock Status: {status} ({stock} units available)\"\n",
        "\n",
        "    def _find_product(self, product_id: str) -> Optional[Dict]:\n",
        "        \"\"\"Helper method to find a product by ID\"\"\"\n",
        "        for product in self.products:\n",
        "            if product['id'] == product_id:\n",
        "                return product\n",
        "        return None"
      ],
      "outputs": []
    },
    {
      "cell_type": "markdown",
      "metadata": {
        "id": "AcllZ3MmrZOm"
      },
      "source": [
        "## 3. Evaluation Function\n",
        "\n",
        "Let's create a simple function to evaluate our agent's responses:"
      ]
    },
    {
      "cell_type": "code",
      "execution_count": null,
      "metadata": {
        "id": "5AyLPDLCrZOm"
      },
      "source": [
        "def evaluate_response(query: str, tool_used: str, response: str) -> dict:\n",
        "    \"\"\"Evaluate an agent's response using the Granite model\"\"\"\n",
        "\n",
        "    prompt = f\"\"\"<think>\n",
        "Please evaluate this AI agent interaction:\n",
        "\n",
        "User Query: {query}\n",
        "Tool Used: {tool_used}\n",
        "Agent Response: {response}\n",
        "\n",
        "Rate on a scale of 1-5 (5 being best) and provide a brief explanation.\n",
        "Return your evaluation in this JSON format:\n",
        "{{\"score\": <1-5>, \"explanation\": \"<your brief explanation>\"}}\n",
        "</think>\"\"\"\n",
        "\n",
        "    try:\n",
        "        # Get evaluation from Granite\n",
        "        result = model.predict(prompt, max_new_tokens=200)\n",
        "        return json.loads(result.strip())\n",
        "    except:\n",
        "        return {\"score\": 0, \"explanation\": \"Evaluation failed\"}\n",
        "\n",
        "# Test the evaluation\n",
        "test_query = \"What's 5 plus 3?\"\n",
        "test_response = agent.use_calculator(\"5 + 3\")\n",
        "eval_result = evaluate_response(test_query, \"calculator\", test_response)\n",
        "\n",
        "print(f\"Query: {test_query}\")\n",
        "print(f\"Response: {test_response}\")\n",
        "print(f\"Evaluation Score: {eval_result['score']}/5\")\n",
        "print(f\"Explanation: {eval_result['explanation']}\")"
      ],
      "outputs": []
    },
    {
      "cell_type": "markdown",
      "metadata": {
        "id": "j5bhfm48rZOn"
      },
      "source": [
        "## 4. Try It Yourself!\n",
        "\n",
        "Now you can try different queries and evaluate the responses. Here's an example to get you started:"
      ]
    },
    {
      "cell_type": "code",
      "execution_count": null,
      "metadata": {
        "id": "Q1ttKVHgrZOo"
      },
      "source": [
        "def try_agent(query: str, tool: str, input_value: str):\n",
        "    \"\"\"Test the agent with different queries\"\"\"\n",
        "    # Get the right tool function\n",
        "    if tool == \"calculator\":\n",
        "        response = agent.use_calculator(input_value)\n",
        "    elif tool == \"weather\":\n",
        "        response = agent.check_weather(input_value)\n",
        "    elif tool == \"text\":\n",
        "        response = agent.analyze_text(input_value)\n",
        "    else:\n",
        "        return \"Unknown tool\"\n",
        "\n",
        "    # Evaluate the response\n",
        "    evaluation = evaluate_response(query, tool, response)\n",
        "\n",
        "    # Print results\n",
        "    print(f\"Query: {query}\")\n",
        "    print(f\"Tool Used: {tool}\")\n",
        "    print(f\"Response: {response}\")\n",
        "    print(f\"Evaluation Score: {evaluation['score']}/5\")\n",
        "    print(f\"Feedback: {evaluation['explanation']}\")\n",
        "\n",
        "# Example usage:\n",
        "print(\"Example 1: Calculator\")\n",
        "try_agent(\"What's 10 times 5?\", \"calculator\", \"10 * 5\")\n",
        "\n",
        "print(\"\\nExample 2: Weather\")\n",
        "try_agent(\"What's the weather in Tokyo?\", \"weather\", \"Tokyo\")\n",
        "\n",
        "print(\"\\nExample 3: Text Analysis\")\n",
        "try_agent(\"How does this text sound?\", \"text\", \"This is a great and wonderful day!\")"
      ],
      "outputs": []
    },
    {
      "cell_type": "markdown",
      "metadata": {
        "id": "afHlgh3arZOo"
      },
      "source": [
        "## Your Turn!\n",
        "\n",
        "Try creating your own queries below. Here are some ideas:\n",
        "- Try different calculations\n",
        "- Check weather for different cities\n",
        "- Analyze different text samples\n",
        "\n",
        "Just copy and modify the example below:"
      ]
    },
    {
      "cell_type": "code",
      "execution_count": null,
      "metadata": {
        "id": "hDAqnG6VrZOp"
      },
      "source": [
        "# Your tests here!\n",
        "try_agent(\n",
        "    query=\"What's 25 divided by 5?\",  # Your question\n",
        "    tool=\"calculator\",                # Choose: calculator, weather, or text\n",
        "    input_value=\"25 / 5\"             # Your input\n",
        ")"
      ],
      "outputs": []
    },
    {
      "cell_type": "markdown",
      "metadata": {
        "id": "YED8F4zLrZOp"
      },
      "source": [
        "## 🎉 Congratulations!\n",
        "\n",
        "You've completed the simple AI agent evaluation lab! You've learned:\n",
        "- How to work with a simple AI agent\n",
        "- How to use different tools\n",
        "- How to evaluate AI responses\n",
        "\n",
        "Feel free to experiment with different queries and tools!"
      ]
    }
  ],
  "metadata": {
    "kernelspec": {
      "display_name": "Python 3",
      "language": "python",
      "name": "python3"
    },
    "language_info": {
      "codemirror_mode": {
        "name": "ipython",
        "version": 3
      },
      "file_extension": ".py",
      "mimetype": "text/x-python",
      "name": "python",
      "nbconvert_exporter": "python",
      "pygments_lexer": "ipython3",
      "version": "3.8.0"
    },
    "colab": {
      "provenance": []
    }
  },
  "nbformat": 4,
  "nbformat_minor": 0
}